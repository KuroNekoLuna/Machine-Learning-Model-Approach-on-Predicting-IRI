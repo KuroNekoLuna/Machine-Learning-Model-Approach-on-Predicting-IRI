{
 "cells": [
  {
   "cell_type": "code",
   "execution_count": 1,
   "id": "c68a7e03",
   "metadata": {},
   "outputs": [],
   "source": [
    "import numpy as np\n",
    "import pandas as pd\n",
    "import matplotlib.pyplot as plt\n"
   ]
  },
  {
   "cell_type": "code",
   "execution_count": 2,
   "id": "e402d6b9",
   "metadata": {},
   "outputs": [],
   "source": [
    "class MiniBatchLinearRegression:\n",
    "    def __init__(self, learning_rate=0.01, n_iterations=1000, batch_size=32):\n",
    "        self.learning_rate = learning_rate\n",
    "        self.n_iterations = n_iterations\n",
    "        self.batch_size = batch_size\n",
    "        self.weights = None\n",
    "\n",
    "    def fit(self, X, y):\n",
    "        num_samples, num_features = X.shape\n",
    "        # Initialize weights, including bias\n",
    "        self.weights = np.zeros(num_features + 1)\n",
    "\n",
    "        # Add a column of ones to the features, to handle bias\n",
    "        X = np.column_stack((np.ones(num_samples), X))\n",
    "        losses = []\n",
    "        for _ in range(self.n_iterations):\n",
    "            # Randomly shuffle the dataset\n",
    "            indices = np.arange(num_samples)\n",
    "            np.random.shuffle(indices)\n",
    "            tmp_losses = []\n",
    "            # Divide into mini-batches\n",
    "            for start in range(0, num_samples, self.batch_size):\n",
    "                end = min(start + self.batch_size, num_samples)\n",
    "                batch_indices = indices[start:end]\n",
    "                X_batch = X[batch_indices]\n",
    "                y_batch = y[batch_indices]\n",
    "\n",
    "                # Calculate predictions\n",
    "                y_pred = np.dot(X_batch, self.weights)\n",
    "\n",
    "                # Calculate loss\n",
    "                loss = (1 / (2 * X_batch.shape[0])) * np.sum((y_pred - y_batch) ** 2)\n",
    "                tmp_losses.append(loss)\n",
    "                # Calculate gradient\n",
    "                gradient = (1 / X_batch.shape[0]) * np.dot(X_batch.T, (y_pred - y_batch))\n",
    "\n",
    "                # Update weights\n",
    "                self.weights -= self.learning_rate * gradient\n",
    "            losses.append(sum(tmp_losses)/len(tmp_losses))\n",
    "        return losses\n",
    "\n",
    "    def predict(self, X):\n",
    "        # Add a column of ones to the features, to handle bias\n",
    "        X = np.column_stack((np.ones(X.shape[0]), X))\n",
    "        y_pred = np.dot(X, self.weights)\n",
    "        return y_pred\n",
    "\n"
   ]
  },
  {
   "cell_type": "code",
   "execution_count": 3,
   "id": "335504c5",
   "metadata": {},
   "outputs": [],
   "source": [
    "import numpy as np\n",
    "\n",
    "def calculate_regression_metrics(y_true, y_pred):\n",
    "    mae = np.round(np.mean(np.abs(y_true - y_pred)), 4)\n",
    "    mse = np.round(np.mean((y_true - y_pred)**2), 4)\n",
    "    rmse = np.round(np.sqrt(mse), 4)\n",
    "    \n",
    "    # Calculate R-squared\n",
    "    ssr = np.sum((y_pred - y_true)**2)  # Sum of squares of residuals\n",
    "    sst = np.sum((y_true - np.mean(y_true))**2)   # Total sum of squares\n",
    "    r2 = np.round(1 - (ssr / sst), 4)  # R-squared\n",
    "    \n",
    "    metrics = {\n",
    "        'MAE': mae,\n",
    "        'MSE': mse,\n",
    "        'RMSE': rmse,\n",
    "        'R-squared': r2\n",
    "    }\n",
    "    \n",
    "    return metrics\n"
   ]
  },
  {
   "cell_type": "code",
   "execution_count": 4,
   "id": "8de1585a",
   "metadata": {},
   "outputs": [],
   "source": [
    "\n",
    "def train_test_split(X, y, test_size=0.2, random_seed=None):\n",
    "\n",
    "    if random_seed is not None:\n",
    "        np.random.seed(random_seed)\n",
    "\n",
    "    num_samples = len(X)\n",
    "    num_test_samples = int(test_size * num_samples)\n",
    "\n",
    "    # Randomly shuffle the dataset\n",
    "    indices = np.arange(num_samples)\n",
    "    np.random.shuffle(indices)\n",
    "\n",
    "    # Split the dataset\n",
    "    test_indices = indices[:num_test_samples]\n",
    "    train_indices = indices[num_test_samples:]\n",
    "\n",
    "    X_train, X_test = X[train_indices], X[test_indices]\n",
    "    y_train, y_test = y[train_indices], y[test_indices]\n",
    "\n",
    "    return X_train, X_test, y_train, y_test\n",
    "\n",
    "\n",
    "class StandardScaler:\n",
    "    def __init__(self):\n",
    "        self.mean_ = None\n",
    "        self.std_ = None\n",
    "    \n",
    "    def fit(self, X):\n",
    "        self.mean_ = np.mean(X, axis=0)\n",
    "        self.std_ = np.std(X, axis=0)\n",
    "    \n",
    "    def transform(self, X):\n",
    "        if self.mean_ is None or self.std_ is None:\n",
    "            raise ValueError(\"Must use fit method to compute mean and standard deviation first\")\n",
    "        \n",
    "        standardized_X = (X - self.mean_) / self.std_\n",
    "        return standardized_X\n",
    "    \n",
    "    def fit_transform(self, X):\n",
    "        self.fit(X)\n",
    "        return self.transform(X)\n",
    "    \n",
    "    def inverse_transform(self, X):\n",
    "        if self.mean_ is None or self.std_ is None:\n",
    "            raise ValueError(\"Must use fit method to compute mean and standard deviation first\")\n",
    "        \n",
    "        original_X = (X * self.std_) + self.mean_\n",
    "        return original_X\n",
    "\n"
   ]
  },
  {
   "cell_type": "code",
   "execution_count": 5,
   "id": "ef68e784",
   "metadata": {},
   "outputs": [
    {
     "data": {
      "text/html": [
       "<div>\n",
       "<style scoped>\n",
       "    .dataframe tbody tr th:only-of-type {\n",
       "        vertical-align: middle;\n",
       "    }\n",
       "\n",
       "    .dataframe tbody tr th {\n",
       "        vertical-align: top;\n",
       "    }\n",
       "\n",
       "    .dataframe thead th {\n",
       "        text-align: right;\n",
       "    }\n",
       "</style>\n",
       "<table border=\"1\" class=\"dataframe\">\n",
       "  <thead>\n",
       "    <tr style=\"text-align: right;\">\n",
       "      <th></th>\n",
       "      <th>rainfall</th>\n",
       "      <th>Above_30_days</th>\n",
       "      <th>Above_37_5_days</th>\n",
       "      <th>dayspassed</th>\n",
       "      <th>ALLVEHS_AA_avg</th>\n",
       "      <th>TRUCKS_AAD_avg</th>\n",
       "      <th>IRI_increase</th>\n",
       "    </tr>\n",
       "  </thead>\n",
       "  <tbody>\n",
       "    <tr>\n",
       "      <th>0</th>\n",
       "      <td>1226.9</td>\n",
       "      <td>75.0</td>\n",
       "      <td>12.0</td>\n",
       "      <td>750.0</td>\n",
       "      <td>76000.0</td>\n",
       "      <td>9700.0</td>\n",
       "      <td>0.030</td>\n",
       "    </tr>\n",
       "    <tr>\n",
       "      <th>1</th>\n",
       "      <td>1716.2</td>\n",
       "      <td>75.0</td>\n",
       "      <td>12.0</td>\n",
       "      <td>750.0</td>\n",
       "      <td>43000.0</td>\n",
       "      <td>3800.0</td>\n",
       "      <td>0.160</td>\n",
       "    </tr>\n",
       "    <tr>\n",
       "      <th>2</th>\n",
       "      <td>1226.9</td>\n",
       "      <td>75.0</td>\n",
       "      <td>12.0</td>\n",
       "      <td>750.0</td>\n",
       "      <td>76000.0</td>\n",
       "      <td>9700.0</td>\n",
       "      <td>0.010</td>\n",
       "    </tr>\n",
       "    <tr>\n",
       "      <th>3</th>\n",
       "      <td>1226.9</td>\n",
       "      <td>75.0</td>\n",
       "      <td>12.0</td>\n",
       "      <td>750.0</td>\n",
       "      <td>69000.0</td>\n",
       "      <td>8800.0</td>\n",
       "      <td>0.005</td>\n",
       "    </tr>\n",
       "    <tr>\n",
       "      <th>4</th>\n",
       "      <td>1716.2</td>\n",
       "      <td>75.0</td>\n",
       "      <td>12.0</td>\n",
       "      <td>750.0</td>\n",
       "      <td>43000.0</td>\n",
       "      <td>4200.0</td>\n",
       "      <td>0.280</td>\n",
       "    </tr>\n",
       "    <tr>\n",
       "      <th>...</th>\n",
       "      <td>...</td>\n",
       "      <td>...</td>\n",
       "      <td>...</td>\n",
       "      <td>...</td>\n",
       "      <td>...</td>\n",
       "      <td>...</td>\n",
       "      <td>...</td>\n",
       "    </tr>\n",
       "    <tr>\n",
       "      <th>10206</th>\n",
       "      <td>1949.0</td>\n",
       "      <td>58.0</td>\n",
       "      <td>11.0</td>\n",
       "      <td>956.0</td>\n",
       "      <td>13133.0</td>\n",
       "      <td>497.0</td>\n",
       "      <td>0.120</td>\n",
       "    </tr>\n",
       "    <tr>\n",
       "      <th>10207</th>\n",
       "      <td>1949.0</td>\n",
       "      <td>58.0</td>\n",
       "      <td>11.0</td>\n",
       "      <td>956.0</td>\n",
       "      <td>7112.0</td>\n",
       "      <td>248.0</td>\n",
       "      <td>0.190</td>\n",
       "    </tr>\n",
       "    <tr>\n",
       "      <th>10208</th>\n",
       "      <td>1949.0</td>\n",
       "      <td>58.0</td>\n",
       "      <td>11.0</td>\n",
       "      <td>956.0</td>\n",
       "      <td>15391.0</td>\n",
       "      <td>356.0</td>\n",
       "      <td>0.030</td>\n",
       "    </tr>\n",
       "    <tr>\n",
       "      <th>10209</th>\n",
       "      <td>1949.0</td>\n",
       "      <td>58.0</td>\n",
       "      <td>11.0</td>\n",
       "      <td>956.0</td>\n",
       "      <td>11121.0</td>\n",
       "      <td>339.0</td>\n",
       "      <td>0.300</td>\n",
       "    </tr>\n",
       "    <tr>\n",
       "      <th>10210</th>\n",
       "      <td>1949.0</td>\n",
       "      <td>58.0</td>\n",
       "      <td>11.0</td>\n",
       "      <td>956.0</td>\n",
       "      <td>13133.0</td>\n",
       "      <td>497.0</td>\n",
       "      <td>0.160</td>\n",
       "    </tr>\n",
       "  </tbody>\n",
       "</table>\n",
       "<p>10211 rows × 7 columns</p>\n",
       "</div>"
      ],
      "text/plain": [
       "       rainfall  Above_30_days  Above_37_5_days  dayspassed  ALLVEHS_AA_avg  \\\n",
       "0        1226.9           75.0             12.0       750.0         76000.0   \n",
       "1        1716.2           75.0             12.0       750.0         43000.0   \n",
       "2        1226.9           75.0             12.0       750.0         76000.0   \n",
       "3        1226.9           75.0             12.0       750.0         69000.0   \n",
       "4        1716.2           75.0             12.0       750.0         43000.0   \n",
       "...         ...            ...              ...         ...             ...   \n",
       "10206    1949.0           58.0             11.0       956.0         13133.0   \n",
       "10207    1949.0           58.0             11.0       956.0          7112.0   \n",
       "10208    1949.0           58.0             11.0       956.0         15391.0   \n",
       "10209    1949.0           58.0             11.0       956.0         11121.0   \n",
       "10210    1949.0           58.0             11.0       956.0         13133.0   \n",
       "\n",
       "       TRUCKS_AAD_avg  IRI_increase  \n",
       "0              9700.0         0.030  \n",
       "1              3800.0         0.160  \n",
       "2              9700.0         0.010  \n",
       "3              8800.0         0.005  \n",
       "4              4200.0         0.280  \n",
       "...               ...           ...  \n",
       "10206           497.0         0.120  \n",
       "10207           248.0         0.190  \n",
       "10208           356.0         0.030  \n",
       "10209           339.0         0.300  \n",
       "10210           497.0         0.160  \n",
       "\n",
       "[10211 rows x 7 columns]"
      ]
     },
     "execution_count": 5,
     "metadata": {},
     "output_type": "execute_result"
    }
   ],
   "source": [
    "df = pd.read_csv('./combined_data_final.txt', sep='\\t')\n",
    "use_columns = [x for x in df.columns if not x .startswith('Name')]\n",
    "df = df.iloc[:, -7:].applymap(float)\n",
    "df"
   ]
  },
  {
   "cell_type": "code",
   "execution_count": 6,
   "id": "46fd7e7c",
   "metadata": {},
   "outputs": [
    {
     "data": {
      "text/plain": [
       "'\\nThe target variable does not have apparent linear correlation with most of the features.\\n'"
      ]
     },
     "execution_count": 6,
     "metadata": {},
     "output_type": "execute_result"
    },
    {
     "data": {
      "image/png": "[encoded data removed]",
      "text/plain": [
       "<Figure size 800x600 with 2 Axes>"
      ]
     },
     "metadata": {},
     "output_type": "display_data"
    }
   ],
   "source": [
    "import seaborn as sn\n",
    "from matplotlib import colors\n",
    "plt.figure(figsize=(8,6))\n",
    "scaled_data = StandardScaler().fit_transform(df)\n",
    "cov_mat = scaled_data.cov()\n",
    "ax = sn.heatmap(cov_mat, fmt='', cmap='rainbow', cbar=True, xticklabels=True, yticklabels=True) # font size\n",
    "\n",
    "\"\"\"\n",
    "\n",
    "The following feature pairs have relatively high intercorrelation:\n",
    "rainfall    dayspassed\n",
    "Above_30_days    Above_37_5_days\n",
    "ALLVEHS_AA_avg   TRUCKS_AAD_avg\n",
    "The following feature pairs have moderate intercorrelation:\n",
    "rainfall    Above_37_5_days\n",
    "Above_30_days    dayspassed\n",
    "Above_37_5_days    dayspassed\n",
    "\"\"\"\n",
    "\n",
    "\"\"\"\n",
    "The target variable does not have apparent linear correlation with most of the features.\n",
    "\"\"\""
   ]
  },
  {
   "cell_type": "code",
   "execution_count": 7,
   "id": "8aa213d6",
   "metadata": {},
   "outputs": [],
   "source": [
    "# Remove outliers\n",
    "# Calculate mean and standard deviation\n",
    "tgt = df['IRI_increase']\n",
    "mean = tgt.mean()\n",
    "std = tgt.std()\n",
    "\n",
    "# Define standard deviation threshold (e.g., three times the standard deviation)\n",
    "threshold = 3 * std\n",
    "\n",
    "# Use condition filtering to identify outliers and replace them with NaN\n",
    "tgt[tgt > mean + threshold] = np.nan\n",
    "tgt[tgt < mean - threshold] = np.nan\n",
    "tgt = tgt.fillna(method='ffill')\n",
    "df['IRI_increase'] = tgt"
   ]
  },
  {
   "cell_type": "code",
   "execution_count": 8,
   "id": "fdad12c2",
   "metadata": {},
   "outputs": [],
   "source": [
    "\n",
    "X,Y = df.iloc[:,-7:-1].values, df.iloc[:,-1].values\n"
   ]
  },
  {
   "cell_type": "code",
   "execution_count": 9,
   "id": "85af26b2",
   "metadata": {},
   "outputs": [
    {
     "name": "stdout",
     "output_type": "stream",
     "text": [
      "(8169, 6) (2042, 6) (8169,) (2042,)\n"
     ]
    },
    {
     "data": {
      "text/plain": [
       "Text(0.5, 0, 'points')"
      ]
     },
     "execution_count": 9,
     "metadata": {},
     "output_type": "execute_result"
    },
    {
     "data": {
      "image/png": "[encoded data removed]",
      "text/plain": [
       "<Figure size 640x480 with 1 Axes>"
      ]
     },
     "metadata": {},
     "output_type": "display_data"
    }
   ],
   "source": [
    "X = StandardScaler().fit_transform(X)\n",
    "train_x, test_x, train_y, test_y = train_test_split(X, Y, test_size=0.2, random_seed=23)\n",
    "print(train_x.shape, test_x.shape, train_y.shape, test_y.shape)\n",
    "plt.plot(Y)\n",
    "plt.ylabel('target')\n",
    "plt.xlabel('points')"
   ]
  },
  {
   "cell_type": "code",
   "execution_count": 10,
   "id": "d73d8e32",
   "metadata": {},
   "outputs": [
    {
     "data": {
      "text/plain": [
       "{'MAE': 0.2188, 'MSE': 0.1208, 'RMSE': 0.3476, 'R-squared': 0.021}"
      ]
     },
     "execution_count": 10,
     "metadata": {},
     "output_type": "execute_result"
    }
   ],
   "source": [
    "# linear regression model\n",
    "model = MiniBatchLinearRegression(learning_rate=1e-3,n_iterations=1000, batch_size=512)\n",
    "model.fit(train_x, train_y)\n",
    "pred_y = model.predict(test_x)\n",
    "calculate_regression_metrics(test_y, pred_y)"
   ]
  },
  {
   "cell_type": "code",
   "execution_count": 11,
   "id": "40e0344a",
   "metadata": {},
   "outputs": [
    {
     "data": {
      "text/plain": [
       "{'MAE': 0.2016, 'MSE': 0.108, 'RMSE': 0.3286, 'R-squared': 0.1244}"
      ]
     },
     "execution_count": 11,
     "metadata": {},
     "output_type": "execute_result"
    }
   ],
   "source": [
    "# Random Forest Regressor\n",
    "from sklearn.ensemble import RandomForestRegressor\n",
    "model = RandomForestRegressor(max_depth=10)\n",
    "model.fit(train_x, train_y)\n",
    "pred_y = model.predict(test_x)\n",
    "calculate_regression_metrics(test_y, pred_y)"
   ]
  },
  {
   "cell_type": "code",
   "execution_count": 12,
   "id": "08de749b",
   "metadata": {},
   "outputs": [
    {
     "data": {
      "text/plain": [
       "{'MAE': 0.1737, 'MSE': 0.0726, 'RMSE': 0.2694, 'R-squared': 0.3446}"
      ]
     },
     "execution_count": 12,
     "metadata": {},
     "output_type": "execute_result"
    }
   ],
   "source": [
    "# Training Set Metrics\n",
    "model.fit(train_x, train_y)\n",
    "pred_y = model.predict(train_x)\n",
    "calculate_regression_metrics(train_y, pred_y)"
   ]
  },
  {
   "cell_type": "code",
   "execution_count": 13,
   "id": "399a21b3",
   "metadata": {},
   "outputs": [
    {
     "name": "stdout",
     "output_type": "stream",
     "text": [
      " Visualize the trees of a Random Forest\n",
      "the0's tree ./rf_0.jpg\n"
     ]
    },
    {
     "data": {
      "text/plain": [
       "['./rf_0.jpg']"
      ]
     },
     "execution_count": 13,
     "metadata": {},
     "output_type": "execute_result"
    }
   ],
   "source": [
    "from sklearn.tree import export_graphviz\n",
    "import os\n",
    "def draw_randomforest_trees(model,feature_names :list, class_names:list,\n",
    "                            save_dir:str, model_name:str) -> list:\n",
    "    \"\"\"\n",
    "    Visualize the trees of a Random Forest\n",
    "    \n",
    "    Parameters\n",
    "    ----------\n",
    "    model: The trained random forest model\n",
    "    feature_names: list, names of the feature columns used in training\n",
    "    class_names: list, names of the target classes. If it's a regression task, set this parameter to None\n",
    "    save_dir: str, directory to save the visualizations\n",
    "    model_name: str, name of the trained random forest model, without the .pickle extension\n",
    "    \n",
    "    Returns\n",
    "    -------\n",
    "    resimgpaths: list, paths to the visualization images\n",
    "    \"\"\"\n",
    "    print(\" Visualize the trees of a Random Forest\")\n",
    "    resimgpaths = [] #image save path\n",
    "    for i in range(len(model.estimators_))[:1]:\n",
    "        # export tree to .dot file\n",
    "        # savedir = config_dict[\"save_dir\"]\n",
    "        # modelname = config_dict[\"modelname\"]\n",
    "        savedotfile = os.path.join(save_dir, model_name+\"_\"+str(i)+\".dot\")\n",
    "        saveimgfile = os.path.join(save_dir, model_name+\"_\"+str(i)+\".jpg\")\n",
    "        print(f\"the{i}'s tree {saveimgfile}\")\n",
    "        export_graphviz(model.estimators_[i], \n",
    "                        out_file=savedotfile,\n",
    "                        feature_names = feature_names, \n",
    "                        class_names = class_names,\n",
    "                        rounded = True, \n",
    "                        proportion = False,\n",
    "                        precision = 6, \n",
    "                        filled = True)\n",
    "        \n",
    "        # Convert dot to jpg image using system command dot -Tjpg tree.dot -o tree.jpg\n",
    "        os.system(f\"dot -Tpng -Gdpi=2000 {savedotfile} -o {saveimgfile}\")\n",
    "        resimgpaths.append(saveimgfile)\n",
    "    return resimgpaths\n",
    "draw_randomforest_trees(model, df.columns[:-1], df.columns[-1], './', 'rf')"
   ]
  },
  {
   "cell_type": "code",
   "execution_count": null,
   "id": "ff76007e",
   "metadata": {},
   "outputs": [],
   "source": []
  }
 ],
 "metadata": {
  "kernelspec": {
   "display_name": "Python 3 (ipykernel)",
   "language": "python",
   "name": "python3"
  },
  "language_info": {
   "codemirror_mode": {
    "name": "ipython",
    "version": 3
   },
   "file_extension": ".py",
   "mimetype": "text/x-python",
   "name": "python",
   "nbconvert_exporter": "python",
   "pygments_lexer": "ipython3",
   "version": "3.11.5"
  }
 },
 "nbformat": 4,
 "nbformat_minor": 5
}
